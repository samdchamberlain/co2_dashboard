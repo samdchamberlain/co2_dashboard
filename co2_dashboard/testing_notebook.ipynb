{
 "cells": [
  {
   "cell_type": "code",
   "execution_count": 1,
   "id": "8aed1330-0235-4150-b1cb-67a86255b220",
   "metadata": {},
   "outputs": [],
   "source": [
    "import re\n",
    "import numpy as np\n",
    "import pandas as pd"
   ]
  },
  {
   "cell_type": "code",
   "execution_count": 3,
   "id": "dcc1a6be-7cca-4514-94e2-f405df10e0fa",
   "metadata": {},
   "outputs": [],
   "source": [
    "p = pd.read_table(\"data/scd30Log.log\")"
   ]
  },
  {
   "cell_type": "code",
   "execution_count": 4,
   "id": "0398d861-302f-4af2-9bde-9b888b9ebbf3",
   "metadata": {},
   "outputs": [
    {
     "data": {
      "text/plain": [
       "\"INFO:root:CO2: 698.30ppm, temp: 14.51'C, rh: 84.14%\""
      ]
     },
     "execution_count": 4,
     "metadata": {},
     "output_type": "execute_result"
    }
   ],
   "source": [
    "p.iloc[-1, :][0]"
   ]
  },
  {
   "cell_type": "code",
   "execution_count": 6,
   "id": "466a0fa1-e7c6-49c1-a174-e9d17661eb42",
   "metadata": {},
   "outputs": [],
   "source": [
    "# p.iloc[:30, :][0]\n",
    "\n",
    "def get_met_values(line):\n",
    "    fields = (\n",
    "        line.replace(\"INFO:root:CO2:\", \"\")\n",
    "        .strip()\n",
    "        .split(',')\n",
    "    )\n",
    "    co2, rh, temp = None, None, None\n",
    "    for field in fields:\n",
    "        if \"ppm\" in field.lower():\n",
    "            co2 = re.sub(r'[^0-9 .-]', '', field).strip()\n",
    "        if \"rh\" in field.lower():\n",
    "            rh = re.sub(r'[^0-9 .-]', '', field).strip()\n",
    "        if \"temp\" in field.lower():\n",
    "            temp = re.sub(r'[^0-9 .-]', '', field).strip()\n",
    "    return co2, rh, temp\n",
    "    "
   ]
  },
  {
   "cell_type": "code",
   "execution_count": 2,
   "id": "41ecbd9d-adf8-414e-b986-b953b5e27a02",
   "metadata": {},
   "outputs": [
    {
     "ename": "UnicodeDecodeError",
     "evalue": "'utf-8' codec can't decode byte 0x8b in position 1: invalid start byte",
     "output_type": "error",
     "traceback": [
      "\u001b[0;31m---------------------------------------------------------------------------\u001b[0m",
      "\u001b[0;31mUnicodeDecodeError\u001b[0m                        Traceback (most recent call last)",
      "Cell \u001b[0;32mIn[2], line 15\u001b[0m\n\u001b[1;32m     13\u001b[0m co2_list, rh_list, temp_list \u001b[38;5;241m=\u001b[39m [], [], []\n\u001b[1;32m     14\u001b[0m \u001b[38;5;28;01mwith\u001b[39;00m \u001b[38;5;28mopen\u001b[39m(\u001b[38;5;124m\"\u001b[39m\u001b[38;5;124mdata/scd30Log.log.gz\u001b[39m\u001b[38;5;124m\"\u001b[39m, mode\u001b[38;5;241m=\u001b[39m\u001b[38;5;124m'\u001b[39m\u001b[38;5;124mrt\u001b[39m\u001b[38;5;124m'\u001b[39m, encoding\u001b[38;5;241m=\u001b[39m\u001b[38;5;124m'\u001b[39m\u001b[38;5;124mUTF-8\u001b[39m\u001b[38;5;124m'\u001b[39m) \u001b[38;5;28;01mas\u001b[39;00m f:\n\u001b[0;32m---> 15\u001b[0m     \u001b[38;5;28;01mfor\u001b[39;00m line \u001b[38;5;129;01min\u001b[39;00m f:\n\u001b[1;32m     16\u001b[0m         \u001b[38;5;28;01mif\u001b[39;00m line\u001b[38;5;241m.\u001b[39mstartswith(\u001b[38;5;124m\"\u001b[39m\u001b[38;5;124mINFO:root:CO2\u001b[39m\u001b[38;5;124m\"\u001b[39m):\n\u001b[1;32m     17\u001b[0m             fields \u001b[38;5;241m=\u001b[39m (\n\u001b[1;32m     18\u001b[0m                 line\u001b[38;5;241m.\u001b[39mreplace(\u001b[38;5;124m\"\u001b[39m\u001b[38;5;124mINFO:root:CO2:\u001b[39m\u001b[38;5;124m\"\u001b[39m, \u001b[38;5;124m\"\u001b[39m\u001b[38;5;124m\"\u001b[39m)\n\u001b[1;32m     19\u001b[0m                 \u001b[38;5;241m.\u001b[39mstrip()\n\u001b[1;32m     20\u001b[0m                 \u001b[38;5;241m.\u001b[39msplit(\u001b[38;5;124m'\u001b[39m\u001b[38;5;124m,\u001b[39m\u001b[38;5;124m'\u001b[39m)\n\u001b[1;32m     21\u001b[0m             )\n",
      "File \u001b[0;32m~/.pyenv/versions/3.9.5/lib/python3.9/codecs.py:322\u001b[0m, in \u001b[0;36mBufferedIncrementalDecoder.decode\u001b[0;34m(self, input, final)\u001b[0m\n\u001b[1;32m    319\u001b[0m \u001b[38;5;28;01mdef\u001b[39;00m \u001b[38;5;21mdecode\u001b[39m(\u001b[38;5;28mself\u001b[39m, \u001b[38;5;28minput\u001b[39m, final\u001b[38;5;241m=\u001b[39m\u001b[38;5;28;01mFalse\u001b[39;00m):\n\u001b[1;32m    320\u001b[0m     \u001b[38;5;66;03m# decode input (taking the buffer into account)\u001b[39;00m\n\u001b[1;32m    321\u001b[0m     data \u001b[38;5;241m=\u001b[39m \u001b[38;5;28mself\u001b[39m\u001b[38;5;241m.\u001b[39mbuffer \u001b[38;5;241m+\u001b[39m \u001b[38;5;28minput\u001b[39m\n\u001b[0;32m--> 322\u001b[0m     (result, consumed) \u001b[38;5;241m=\u001b[39m \u001b[38;5;28;43mself\u001b[39;49m\u001b[38;5;241;43m.\u001b[39;49m\u001b[43m_buffer_decode\u001b[49m\u001b[43m(\u001b[49m\u001b[43mdata\u001b[49m\u001b[43m,\u001b[49m\u001b[43m \u001b[49m\u001b[38;5;28;43mself\u001b[39;49m\u001b[38;5;241;43m.\u001b[39;49m\u001b[43merrors\u001b[49m\u001b[43m,\u001b[49m\u001b[43m \u001b[49m\u001b[43mfinal\u001b[49m\u001b[43m)\u001b[49m\n\u001b[1;32m    323\u001b[0m     \u001b[38;5;66;03m# keep undecoded input until the next call\u001b[39;00m\n\u001b[1;32m    324\u001b[0m     \u001b[38;5;28mself\u001b[39m\u001b[38;5;241m.\u001b[39mbuffer \u001b[38;5;241m=\u001b[39m data[consumed:]\n",
      "\u001b[0;31mUnicodeDecodeError\u001b[0m: 'utf-8' codec can't decode byte 0x8b in position 1: invalid start byte"
     ]
    }
   ],
   "source": [
    "import gzip\n",
    "\n",
    "def get_variable_vals(line: list) -> dict:\n",
    "    ''' Extract the co2, temp, and rh values by string matching\n",
    "      and export row as dictionary\n",
    "    '''\n",
    "    vars = [\"ppm\", \"temp\", \"rh\"]\n",
    "    var_dict = {key: None for key in vars}\n",
    "    for var in var_dict:\n",
    "        final = [field for field in fields if var in field]\n",
    "        final_val = re.sub(r'[^0-9 .-]', '', final[0]).strip()\n",
    "        var_dict[var] = final_val\n",
    "    return var_dict\n",
    "\n",
    "co2_list, rh_list, temp_list = [], [], []\n",
    "with gzip.open(\"data/scd30Log.log.gz\").read( as f:\n",
    "    for line in f:\n",
    "        if line.startswith(\"INFO:root:CO2\"):\n",
    "            fields = (\n",
    "                line.replace(\"INFO:root:CO2:\", \"\")\n",
    "                .strip()\n",
    "                .split(',')\n",
    "            )\n",
    "            var_dict = get_variable_vals(fields)\n",
    "\n",
    "            co2_list.append(var_dict.get('ppm'))\n",
    "            temp_list.append(var_dict.get('temp'))\n",
    "            rh_list.append(var_dict.get('rh'))"
   ]
  },
  {
   "cell_type": "code",
   "execution_count": 36,
   "id": "881c4487-7f4f-4c49-86ba-0eb646ef5d29",
   "metadata": {},
   "outputs": [],
   "source": [
    "df = pd.DataFrame({\n",
    "    \"temp\": temp_list,\n",
    "    \"rh\": rh_list,\n",
    "    \"co2\": co2_list\n",
    "}).reset_index()\n",
    "df.rename(columns={'index': 'timestamp'}, inplace=True)\n",
    "df = df.astype(float)"
   ]
  },
  {
   "cell_type": "code",
   "execution_count": 44,
   "id": "620a7a09-a199-450d-a991-a04c291e3c1e",
   "metadata": {},
   "outputs": [
    {
     "data": {
      "text/html": [
       "<div>\n",
       "<style scoped>\n",
       "    .dataframe tbody tr th:only-of-type {\n",
       "        vertical-align: middle;\n",
       "    }\n",
       "\n",
       "    .dataframe tbody tr th {\n",
       "        vertical-align: top;\n",
       "    }\n",
       "\n",
       "    .dataframe thead th {\n",
       "        text-align: right;\n",
       "    }\n",
       "</style>\n",
       "<table border=\"1\" class=\"dataframe\">\n",
       "  <thead>\n",
       "    <tr style=\"text-align: right;\">\n",
       "      <th></th>\n",
       "      <th>timestamp</th>\n",
       "      <th>temp</th>\n",
       "      <th>rh</th>\n",
       "      <th>co2</th>\n",
       "    </tr>\n",
       "  </thead>\n",
       "  <tbody>\n",
       "    <tr>\n",
       "      <th>0</th>\n",
       "      <td>0.0</td>\n",
       "      <td>18.456725</td>\n",
       "      <td>83.334869</td>\n",
       "      <td>621.125253</td>\n",
       "    </tr>\n",
       "    <tr>\n",
       "      <th>1</th>\n",
       "      <td>1.0</td>\n",
       "      <td>18.973992</td>\n",
       "      <td>82.239675</td>\n",
       "      <td>666.810117</td>\n",
       "    </tr>\n",
       "    <tr>\n",
       "      <th>2</th>\n",
       "      <td>2.0</td>\n",
       "      <td>18.179183</td>\n",
       "      <td>84.914275</td>\n",
       "      <td>653.115156</td>\n",
       "    </tr>\n",
       "    <tr>\n",
       "      <th>3</th>\n",
       "      <td>3.0</td>\n",
       "      <td>17.883064</td>\n",
       "      <td>84.890925</td>\n",
       "      <td>670.771253</td>\n",
       "    </tr>\n",
       "    <tr>\n",
       "      <th>4</th>\n",
       "      <td>4.0</td>\n",
       "      <td>20.083831</td>\n",
       "      <td>78.134033</td>\n",
       "      <td>757.317186</td>\n",
       "    </tr>\n",
       "    <tr>\n",
       "      <th>...</th>\n",
       "      <td>...</td>\n",
       "      <td>...</td>\n",
       "      <td>...</td>\n",
       "      <td>...</td>\n",
       "    </tr>\n",
       "    <tr>\n",
       "      <th>743</th>\n",
       "      <td>743.0</td>\n",
       "      <td>13.489028</td>\n",
       "      <td>83.170308</td>\n",
       "      <td>541.985758</td>\n",
       "    </tr>\n",
       "    <tr>\n",
       "      <th>744</th>\n",
       "      <td>744.0</td>\n",
       "      <td>13.501786</td>\n",
       "      <td>83.363517</td>\n",
       "      <td>550.353603</td>\n",
       "    </tr>\n",
       "    <tr>\n",
       "      <th>745</th>\n",
       "      <td>745.0</td>\n",
       "      <td>13.650853</td>\n",
       "      <td>83.724092</td>\n",
       "      <td>575.527733</td>\n",
       "    </tr>\n",
       "    <tr>\n",
       "      <th>746</th>\n",
       "      <td>746.0</td>\n",
       "      <td>13.924997</td>\n",
       "      <td>84.096200</td>\n",
       "      <td>594.260331</td>\n",
       "    </tr>\n",
       "    <tr>\n",
       "      <th>747</th>\n",
       "      <td>747.0</td>\n",
       "      <td>14.247113</td>\n",
       "      <td>84.160939</td>\n",
       "      <td>659.112528</td>\n",
       "    </tr>\n",
       "  </tbody>\n",
       "</table>\n",
       "<p>748 rows × 4 columns</p>\n",
       "</div>"
      ],
      "text/plain": [
       "     timestamp       temp         rh         co2\n",
       "0          0.0  18.456725  83.334869  621.125253\n",
       "1          1.0  18.973992  82.239675  666.810117\n",
       "2          2.0  18.179183  84.914275  653.115156\n",
       "3          3.0  17.883064  84.890925  670.771253\n",
       "4          4.0  20.083831  78.134033  757.317186\n",
       "..         ...        ...        ...         ...\n",
       "743      743.0  13.489028  83.170308  541.985758\n",
       "744      744.0  13.501786  83.363517  550.353603\n",
       "745      745.0  13.650853  83.724092  575.527733\n",
       "746      746.0  13.924997  84.096200  594.260331\n",
       "747      747.0  14.247113  84.160939  659.112528\n",
       "\n",
       "[748 rows x 4 columns]"
      ]
     },
     "execution_count": 44,
     "metadata": {},
     "output_type": "execute_result"
    }
   ],
   "source": [
    "out_df = df.copy()\n",
    "out_df['timestamp'] = out_df['timestamp'] // 3600\n",
    "out_df.groupby('timestamp')[['temp', 'rh', 'co2']].mean().reset_index()"
   ]
  },
  {
   "cell_type": "code",
   "execution_count": 45,
   "id": "bda2af95-fcf4-4640-b820-8164b9953c44",
   "metadata": {},
   "outputs": [],
   "source": [
    "# export to CSV\n",
    "out_df.to_csv('data/clean_data.csv')"
   ]
  },
  {
   "cell_type": "code",
   "execution_count": null,
   "id": "a9ef30e4-a06a-45e8-baea-bc614ec2f516",
   "metadata": {},
   "outputs": [],
   "source": []
  },
  {
   "cell_type": "code",
   "execution_count": null,
   "id": "d9fc8c00-fb23-4af4-9636-69cbc46ac6f5",
   "metadata": {},
   "outputs": [],
   "source": []
  }
 ],
 "metadata": {
  "kernelspec": {
   "display_name": "dev",
   "language": "python",
   "name": "dev"
  },
  "language_info": {
   "codemirror_mode": {
    "name": "ipython",
    "version": 3
   },
   "file_extension": ".py",
   "mimetype": "text/x-python",
   "name": "python",
   "nbconvert_exporter": "python",
   "pygments_lexer": "ipython3",
   "version": "3.9.5"
  }
 },
 "nbformat": 4,
 "nbformat_minor": 5
}
